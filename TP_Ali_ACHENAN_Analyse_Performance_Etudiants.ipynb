{
 "cells": [
  {
   "cell_type": "markdown",
   "id": "bc268623-a4d8-484a-bd28-57f3c121305c",
   "metadata": {},
   "source": [
    "# TP - Analyse de la Performance des Étudiants\n",
    "\n",
    "Ce notebook a pour objectif d'appliquer les concepts de régression linéaire et logistique sur un dataset personnalisé simulant des facteurs influençant la performance des étudiants.\n",
    "\n",
    "## Dataset\n",
    "Généré via <b>Mockaroo</b>, comprenant les colonnes :\n",
    "- `Hours_Studied`\n",
    "- `Previous_Score`\n",
    "- `Attendance_Rate`\n",
    "- `Final_Exam_Score`\n",
    "- `Passed_Course`\n",
    "\n"
   ]
  },
  {
   "cell_type": "markdown",
   "id": "a1542460-a60d-42b3-ae88-6773b8c239e1",
   "metadata": {},
   "source": [
    "## Étape 1 : Importer les Bibliothèques Nécessaires\n",
    "\n",
    "On commence par importer les outils dont on aura besoin : pandas pour manipuler les données, numpy (souvent utile), matplotlib pour les visualisations, et les modules de sklearn pour la régression et la séparation des données.\n"
   ]
  },
  {
   "cell_type": "code",
   "execution_count": 3,
   "id": "698088de-e19a-4f87-a45f-f3185a34ee69",
   "metadata": {},
   "outputs": [],
   "source": [
    "# Importation des bibliothèques\n",
    "import pandas as pd\n",
    "import numpy as np\n",
    "import matplotlib.pyplot as plt\n",
    "\n",
    "# Importation des modèles et outils de sklearn\n",
    "from sklearn.model_selection import train_test_split\n",
    "from sklearn.linear_model import LinearRegression\n",
    "from sklearn.linear_model import LogisticRegression\n",
    "from sklearn.metrics import mean_absolute_error, mean_squared_error, r2_score # Pour évaluer la régression linéaire\n",
    "from sklearn.metrics import accuracy_score, confusion_matrix, classification_report # Pour évaluer la régression logistique"
   ]
  },
  {
   "cell_type": "markdown",
   "id": "eeb71797-918a-4daf-8433-b5dce893a508",
   "metadata": {},
   "source": [
    "## Étape 2 : Charger le Dataset\n",
    "\n",
    "Charge ton fichier CSV généré par Mockaroo dans un DataFrame pandas. Assure-toi que le fichier se trouve dans le même répertoire que ton notebook, ou spécifie le chemin complet."
   ]
  },
  {
   "cell_type": "code",
   "execution_count": 58,
   "id": "944f2617-6d1b-41a8-a31c-ed49c0ba9aff",
   "metadata": {},
   "outputs": [],
   "source": [
    "data = pd.read_csv('dataset_etudiant.csv')"
   ]
  },
  {
   "cell_type": "markdown",
   "id": "9cc6eb6a-8a9c-47f5-8f26-45f8c8bdf56f",
   "metadata": {},
   "source": [
    "## Étape 3 : Explorer les Données\n",
    "\n",
    "Regarde les premières lignes du dataset, les informations sur les colonnes (types de données, valeurs manquantes) et éventuellement quelques statistiques descriptives."
   ]
  },
  {
   "cell_type": "code",
   "execution_count": 61,
   "id": "cff23c1e-8520-45dd-a27e-f75e5cc46d3a",
   "metadata": {},
   "outputs": [
    {
     "name": "stdout",
     "output_type": "stream",
     "text": [
      "Aperçu des premières lignes :\n"
     ]
    },
    {
     "data": {
      "text/html": [
       "<div>\n",
       "<style scoped>\n",
       "    .dataframe tbody tr th:only-of-type {\n",
       "        vertical-align: middle;\n",
       "    }\n",
       "\n",
       "    .dataframe tbody tr th {\n",
       "        vertical-align: top;\n",
       "    }\n",
       "\n",
       "    .dataframe thead th {\n",
       "        text-align: right;\n",
       "    }\n",
       "</style>\n",
       "<table border=\"1\" class=\"dataframe\">\n",
       "  <thead>\n",
       "    <tr style=\"text-align: right;\">\n",
       "      <th></th>\n",
       "      <th>Hours_Studied</th>\n",
       "      <th>Previous_Score</th>\n",
       "      <th>Attendance_Rate</th>\n",
       "      <th>Final_Exam_Score</th>\n",
       "      <th>Passed_Course</th>\n",
       "    </tr>\n",
       "  </thead>\n",
       "  <tbody>\n",
       "    <tr>\n",
       "      <th>0</th>\n",
       "      <td>24</td>\n",
       "      <td>11</td>\n",
       "      <td>98</td>\n",
       "      <td>20.000000</td>\n",
       "      <td>1</td>\n",
       "    </tr>\n",
       "    <tr>\n",
       "      <th>1</th>\n",
       "      <td>19</td>\n",
       "      <td>18</td>\n",
       "      <td>11</td>\n",
       "      <td>20.000000</td>\n",
       "      <td>1</td>\n",
       "    </tr>\n",
       "    <tr>\n",
       "      <th>2</th>\n",
       "      <td>22</td>\n",
       "      <td>13</td>\n",
       "      <td>57</td>\n",
       "      <td>20.000000</td>\n",
       "      <td>1</td>\n",
       "    </tr>\n",
       "    <tr>\n",
       "      <th>3</th>\n",
       "      <td>7</td>\n",
       "      <td>9</td>\n",
       "      <td>11</td>\n",
       "      <td>13.949407</td>\n",
       "      <td>0</td>\n",
       "    </tr>\n",
       "    <tr>\n",
       "      <th>4</th>\n",
       "      <td>8</td>\n",
       "      <td>10</td>\n",
       "      <td>54</td>\n",
       "      <td>15.199610</td>\n",
       "      <td>1</td>\n",
       "    </tr>\n",
       "  </tbody>\n",
       "</table>\n",
       "</div>"
      ],
      "text/plain": [
       "   Hours_Studied  Previous_Score  Attendance_Rate  Final_Exam_Score  \\\n",
       "0             24              11               98         20.000000   \n",
       "1             19              18               11         20.000000   \n",
       "2             22              13               57         20.000000   \n",
       "3              7               9               11         13.949407   \n",
       "4              8              10               54         15.199610   \n",
       "\n",
       "   Passed_Course  \n",
       "0              1  \n",
       "1              1  \n",
       "2              1  \n",
       "3              0  \n",
       "4              1  "
      ]
     },
     "execution_count": 61,
     "metadata": {},
     "output_type": "execute_result"
    }
   ],
   "source": [
    "#Afficher les premières lignes du dataset\n",
    "print(\"Aperçu des premières lignes :\")\n",
    "data.head()"
   ]
  },
  {
   "cell_type": "code",
   "execution_count": 63,
   "id": "d303d6ee-af5b-4aa3-b732-b7fe72898bb1",
   "metadata": {},
   "outputs": [
    {
     "name": "stdout",
     "output_type": "stream",
     "text": [
      "\n",
      "Statistiques descriptives :\n"
     ]
    },
    {
     "data": {
      "text/html": [
       "<div>\n",
       "<style scoped>\n",
       "    .dataframe tbody tr th:only-of-type {\n",
       "        vertical-align: middle;\n",
       "    }\n",
       "\n",
       "    .dataframe tbody tr th {\n",
       "        vertical-align: top;\n",
       "    }\n",
       "\n",
       "    .dataframe thead th {\n",
       "        text-align: right;\n",
       "    }\n",
       "</style>\n",
       "<table border=\"1\" class=\"dataframe\">\n",
       "  <thead>\n",
       "    <tr style=\"text-align: right;\">\n",
       "      <th></th>\n",
       "      <th>Hours_Studied</th>\n",
       "      <th>Previous_Score</th>\n",
       "      <th>Attendance_Rate</th>\n",
       "      <th>Final_Exam_Score</th>\n",
       "      <th>Passed_Course</th>\n",
       "    </tr>\n",
       "  </thead>\n",
       "  <tbody>\n",
       "    <tr>\n",
       "      <th>count</th>\n",
       "      <td>1000.000000</td>\n",
       "      <td>1000.000000</td>\n",
       "      <td>1000.000000</td>\n",
       "      <td>1000.000000</td>\n",
       "      <td>1000.000000</td>\n",
       "    </tr>\n",
       "    <tr>\n",
       "      <th>mean</th>\n",
       "      <td>17.085000</td>\n",
       "      <td>12.976000</td>\n",
       "      <td>50.620000</td>\n",
       "      <td>18.617116</td>\n",
       "      <td>0.908000</td>\n",
       "    </tr>\n",
       "    <tr>\n",
       "      <th>std</th>\n",
       "      <td>7.450993</td>\n",
       "      <td>3.109517</td>\n",
       "      <td>28.853806</td>\n",
       "      <td>2.036241</td>\n",
       "      <td>0.289171</td>\n",
       "    </tr>\n",
       "    <tr>\n",
       "      <th>min</th>\n",
       "      <td>5.000000</td>\n",
       "      <td>8.000000</td>\n",
       "      <td>0.000000</td>\n",
       "      <td>12.082703</td>\n",
       "      <td>0.000000</td>\n",
       "    </tr>\n",
       "    <tr>\n",
       "      <th>25%</th>\n",
       "      <td>11.000000</td>\n",
       "      <td>10.000000</td>\n",
       "      <td>27.000000</td>\n",
       "      <td>17.310030</td>\n",
       "      <td>1.000000</td>\n",
       "    </tr>\n",
       "    <tr>\n",
       "      <th>50%</th>\n",
       "      <td>17.000000</td>\n",
       "      <td>13.000000</td>\n",
       "      <td>51.000000</td>\n",
       "      <td>20.000000</td>\n",
       "      <td>1.000000</td>\n",
       "    </tr>\n",
       "    <tr>\n",
       "      <th>75%</th>\n",
       "      <td>23.000000</td>\n",
       "      <td>16.000000</td>\n",
       "      <td>76.000000</td>\n",
       "      <td>20.000000</td>\n",
       "      <td>1.000000</td>\n",
       "    </tr>\n",
       "    <tr>\n",
       "      <th>max</th>\n",
       "      <td>30.000000</td>\n",
       "      <td>18.000000</td>\n",
       "      <td>100.000000</td>\n",
       "      <td>20.000000</td>\n",
       "      <td>1.000000</td>\n",
       "    </tr>\n",
       "  </tbody>\n",
       "</table>\n",
       "</div>"
      ],
      "text/plain": [
       "       Hours_Studied  Previous_Score  Attendance_Rate  Final_Exam_Score  \\\n",
       "count    1000.000000     1000.000000      1000.000000       1000.000000   \n",
       "mean       17.085000       12.976000        50.620000         18.617116   \n",
       "std         7.450993        3.109517        28.853806          2.036241   \n",
       "min         5.000000        8.000000         0.000000         12.082703   \n",
       "25%        11.000000       10.000000        27.000000         17.310030   \n",
       "50%        17.000000       13.000000        51.000000         20.000000   \n",
       "75%        23.000000       16.000000        76.000000         20.000000   \n",
       "max        30.000000       18.000000       100.000000         20.000000   \n",
       "\n",
       "       Passed_Course  \n",
       "count    1000.000000  \n",
       "mean        0.908000  \n",
       "std         0.289171  \n",
       "min         0.000000  \n",
       "25%         1.000000  \n",
       "50%         1.000000  \n",
       "75%         1.000000  \n",
       "max         1.000000  "
      ]
     },
     "execution_count": 63,
     "metadata": {},
     "output_type": "execute_result"
    }
   ],
   "source": [
    "print(\"\\nStatistiques descriptives :\")\n",
    "data.describe()"
   ]
  },
  {
   "cell_type": "code",
   "execution_count": 65,
   "id": "d298b608-d1bf-4c32-945c-ee88b6bfd109",
   "metadata": {},
   "outputs": [
    {
     "name": "stdout",
     "output_type": "stream",
     "text": [
      "\n",
      "Informations sur le dataset :\n",
      "<class 'pandas.core.frame.DataFrame'>\n",
      "RangeIndex: 1000 entries, 0 to 999\n",
      "Data columns (total 5 columns):\n",
      " #   Column            Non-Null Count  Dtype  \n",
      "---  ------            --------------  -----  \n",
      " 0   Hours_Studied     1000 non-null   int64  \n",
      " 1   Previous_Score    1000 non-null   int64  \n",
      " 2   Attendance_Rate   1000 non-null   int64  \n",
      " 3   Final_Exam_Score  1000 non-null   float64\n",
      " 4   Passed_Course     1000 non-null   int64  \n",
      "dtypes: float64(1), int64(4)\n",
      "memory usage: 39.2 KB\n"
     ]
    }
   ],
   "source": [
    "# Afficher les informations sur le dataset\n",
    "print(\"\\nInformations sur le dataset :\")\n",
    "data.info()"
   ]
  },
  {
   "cell_type": "markdown",
   "id": "7ef351f9-9de2-44a6-928c-9c881e479f4a",
   "metadata": {},
   "source": [
    "# Partie 1 : Régression Linéaire - Prédire la Note Finale (`Final_Exam_Score`)\n",
    "Ici, on va construire un modèle pour prédire la note exacte de l'examen final en fonction des heures étudiées, de la note précédente et du taux de présence.\n",
    "\n",
    "## Étape 4 : Préparer les Données pour la Régression Linéaire\n",
    "Ici, on choisit explicitement une seule variable explicative (`Hours_Studied`) et la variable cible (``Final_Exam_Score``)."
   ]
  },
  {
   "cell_type": "code",
   "execution_count": 68,
   "id": "5d9dcb12-f636-4050-847c-fbc3e9fe625f",
   "metadata": {},
   "outputs": [],
   "source": [
    "# Sélectionner les variables explicatives (X) et la variable cible (y)\n",
    "X_lin = data[['Hours_Studied']] \n",
    "y_lin = data['Final_Exam_Score'] "
   ]
  },
  {
   "cell_type": "markdown",
   "id": "ecfe7463-798f-49e3-b11c-8c6cf8133de7",
   "metadata": {},
   "source": [
    "## Étape 5 : Séparer les Données en Ensembles d'Entraînement et de Test\n",
    "On divise le dataset en deux sous-ensembles : un pour entraîner le modèle (Train) et un autre pour évaluer sa performance sur des données qu'il n'a jamais vues (Test)."
   ]
  },
  {
   "cell_type": "code",
   "execution_count": 71,
   "id": "219a9cd7-6715-45db-9b04-c4ac2576f769",
   "metadata": {},
   "outputs": [
    {
     "name": "stdout",
     "output_type": "stream",
     "text": [
      "\n",
      "Dimensions des ensembles Training (Linéaire) : X=(800, 1), y=(800,)\n",
      "Dimensions des ensembles Test (Linéaire) : X=(200, 1), y=(200,)\n"
     ]
    }
   ],
   "source": [
    "# Séparer les données en training set et test set\n",
    "# On utilise 80% pour l'entraînement et 20% pour le test \n",
    "X_train_lin, X_test_lin, y_train_lin, y_test_lin = train_test_split(X_lin, y_lin, test_size=0.2, random_state=0)\n",
    "\n",
    "print(f\"\\nDimensions des ensembles Training (Linéaire) : X={X_train_lin.shape}, y={y_train_lin.shape}\")\n",
    "print(f\"Dimensions des ensembles Test (Linéaire) : X={X_test_lin.shape}, y={y_test_lin.shape}\")"
   ]
  },
  {
   "cell_type": "markdown",
   "id": "fb8232e6-f853-49b6-9c6a-fba0723761a6",
   "metadata": {},
   "source": [
    "## Étape 6 : Construire et Entraîner le Modèle de Régression Linéaire\n",
    "On crée une instance du modèle LinearRegression et on l'entraîne sur les données d'entraînement."
   ]
  },
  {
   "cell_type": "code",
   "execution_count": 74,
   "id": "bfd1224e-2315-4ac1-83cf-c3e3f3d2b50c",
   "metadata": {},
   "outputs": [
    {
     "name": "stdout",
     "output_type": "stream",
     "text": [
      "\n",
      "Modèle de Régression Linéaire entraîné.\n",
      "Coefficients (pentes) : [0.21620814]\n",
      "Intercept : 14.944305099934438\n"
     ]
    }
   ],
   "source": [
    "# Créer une instance du modèle de Régression Linéaire\n",
    "model_lin = LinearRegression()\n",
    "\n",
    "# Entraîner le modèle sur les données d'entraînement\n",
    "model_lin.fit(X_train_lin, y_train_lin)\n",
    "\n",
    "print(\"\\nModèle de Régression Linéaire entraîné.\")\n",
    "# Afficher les coefficients et l'intercept \n",
    "print(f\"Coefficients (pentes) : {model_lin.coef_}\")\n",
    "print(f\"Intercept : {model_lin.intercept_}\")"
   ]
  },
  {
   "cell_type": "markdown",
   "id": "95d9572a-5e30-4748-a0f7-90e4d724e55f",
   "metadata": {},
   "source": [
    "## Étape 7 : Faire des Prédictions et Évaluer le Modèle Linéaire\n",
    "On utilise le modèle entraîné pour prédire les notes sur l'ensemble de test, puis on évalue la performance du modèle à l'aide de métriques comme MAE, MSE et R² Score."
   ]
  },
  {
   "cell_type": "code",
   "execution_count": 77,
   "id": "384ad4e7-2bd1-4fb9-8774-5dc16c9c8144",
   "metadata": {},
   "outputs": [
    {
     "name": "stdout",
     "output_type": "stream",
     "text": [
      "\n",
      "--- Évaluation du Modèle de Régression Linéaire ---\n",
      "Erreur Absolue Moyenne (MAE) : 0.99\n",
      "Erreur Quadratique Moyenne (MSE) : 1.51\n",
      "Racine Carrée de l'Erreur Quadratique Moyenne (RMSE) : 1.23\n",
      "Coefficient de Détermination (R²) : 0.67\n"
     ]
    }
   ],
   "source": [
    "# Faire des prédictions sur l'ensemble de test\n",
    "y_pred_lin = model_lin.predict(X_test_lin)\n",
    "\n",
    "# Évaluer le modèle\n",
    "mae = mean_absolute_error(y_test_lin, y_pred_lin)\n",
    "mse = mean_squared_error(y_test_lin, y_pred_lin)\n",
    "rmse = np.sqrt(mse) # La racine carrée du MSE\n",
    "r2 = r2_score(y_test_lin, y_pred_lin) # Coefficient de détermination R²\n",
    "\n",
    "print(\"\\n--- Évaluation du Modèle de Régression Linéaire ---\")\n",
    "print(f\"Erreur Absolue Moyenne (MAE) : {mae:.2f}\")\n",
    "print(f\"Erreur Quadratique Moyenne (MSE) : {mse:.2f}\")\n",
    "print(f\"Racine Carrée de l'Erreur Quadratique Moyenne (RMSE) : {rmse:.2f}\")\n",
    "print(f\"Coefficient de Détermination (R²) : {r2:.2f}\")"
   ]
  },
  {
   "cell_type": "markdown",
   "id": "3a8da339-9039-42a6-8b65-569b560ecf73",
   "metadata": {},
   "source": [
    "## Étape 8 : Visualiser les Résultats \n",
    "Cette étape est simplifiée pour tracer les points du test et la seule droite de régression (``y = intercept + coef * x``)."
   ]
  },
  {
   "cell_type": "code",
   "execution_count": 80,
   "id": "7f63b59f-204c-4de3-8251-e1954137dc09",
   "metadata": {},
   "outputs": [
    {
     "name": "stdout",
     "output_type": "stream",
     "text": [
      "\n",
      "Visualisation des résultats de la Régression Linéaire Simple :\n"
     ]
    },
    {
     "name": "stderr",
     "output_type": "stream",
     "text": [
      "D:\\Anaconda\\Lib\\site-packages\\sklearn\\base.py:493: UserWarning: X does not have valid feature names, but LinearRegression was fitted with feature names\n",
      "  warnings.warn(\n"
     ]
    },
    {
     "data": {
      "image/png": "[encoded data removed]",
      "text/plain": [
       "<Figure size 1000x600 with 1 Axes>"
      ]
     },
     "metadata": {},
     "output_type": "display_data"
    }
   ],
   "source": [
    "print(\"\\nVisualisation des résultats de la Régression Linéaire Simple :\")\n",
    "\n",
    "plt.figure(figsize=(10, 6))\n",
    "\n",
    "# Tracer les points de l'ensemble de test (Heures Étudiées vs Note Finale Réelle)\n",
    "plt.scatter(X_test_lin['Hours_Studied'], y_test_lin, color='blue', label='Points Réels (Test)')\n",
    "\n",
    "# Tracer la droite de régression\n",
    "x_for_plot = np.linspace(X_test_lin['Hours_Studied'].min(), X_test_lin['Hours_Studied'].max(), 100).reshape(-1, 1)\n",
    "\n",
    "# Prédire les valeurs y correspondant à ces points x_for_plot en utilisant le modèle entraîné\n",
    "y_for_plot = model_lin.predict(x_for_plot)\n",
    "\n",
    "# Tracer la droite en connectant les points (x_for_plot, y_for_plot)\n",
    "plt.plot(x_for_plot, y_for_plot, color='red', linewidth=2, label='Droite de Régression')\n",
    "\n",
    "# Ajouter titres et labels\n",
    "plt.title('Régression Linéaire Simple : Note Finale vs Heures Étudiées')\n",
    "plt.xlabel('Heures Étudiées par Semaine')\n",
    "plt.ylabel('Note Examen Final')\n",
    "plt.legend() # Affiche la légende (Points Réels, Droite de Régression)\n",
    "plt.grid(True) # Ajoute une grille\n",
    "plt.show() # Affiche le graphique"
   ]
  },
  {
   "cell_type": "markdown",
   "id": "26b12bbe-65d5-425c-b0aa-0c68e293d6d8",
   "metadata": {},
   "source": [
    "# Partie 2 : Régression Logistique - Prédire la Réussite au Cours (``Passed_Course``)\n",
    "Maintenant, on va construire un modèle pour prédire si un étudiant réussira ou non le cours (un résultat binaire).\n",
    "\n",
    "## Étape 9 : Préparer les Données pour la Régression Logistique\n",
    "On utilise les mêmes variables explicatives (X) mais la variable cible change."
   ]
  },
  {
   "cell_type": "code",
   "execution_count": 83,
   "id": "76b51729-3fd3-4afb-813f-6490983e1e09",
   "metadata": {},
   "outputs": [],
   "source": [
    "# Sélectionner les variables explicatives (X) et la nouvelle variable cible binaire (y)\n",
    "X_log = data[['Hours_Studied', 'Previous_Score', 'Attendance_Rate']] \n",
    "y_log = data['Passed_Course'] # 0 ou 1)"
   ]
  },
  {
   "cell_type": "markdown",
   "id": "37643e7e-458d-4f1d-807f-32928ada70ce",
   "metadata": {},
   "source": [
    "## Étape 10 : Séparer les Données en Ensembles d'Entraînement et de Test\n",
    "On sépare à nouveau les données. On peut utiliser les mêmes proportions que pour la régression linéaire."
   ]
  },
  {
   "cell_type": "code",
   "execution_count": 86,
   "id": "9bc01c47-3ef9-4e52-84fa-ac0def13462d",
   "metadata": {},
   "outputs": [
    {
     "name": "stdout",
     "output_type": "stream",
     "text": [
      "Dimensions ensembles Training (Logistique) : X=(800, 3), y=(800,)\n",
      "Dimensions ensembles Test (Logistique) : X=(200, 3), y=(200,)\n"
     ]
    }
   ],
   "source": [
    "# Séparer les Données en training set et test set \n",
    "X_train_log, X_test_log, y_train_log, y_test_log = train_test_split(X_log, y_log, test_size=0.2, random_state=0, stratify=y_log)\n",
    "\n",
    "print(f\"Dimensions ensembles Training (Logistique) : X={X_train_log.shape}, y={y_train_log.shape}\")\n",
    "print(f\"Dimensions ensembles Test (Logistique) : X={X_test_log.shape}, y={y_test_log.shape}\")\n"
   ]
  },
  {
   "cell_type": "code",
   "execution_count": 88,
   "id": "2f3fc205-a65a-44eb-b406-f257cb197b8b",
   "metadata": {},
   "outputs": [
    {
     "name": "stdout",
     "output_type": "stream",
     "text": [
      "\n",
      "Distribution des classes dans la variable cible 'Passed_Course' (y_log) dans le dataset complet :\n",
      "Passed_Course\n",
      "1    908\n",
      "0     92\n",
      "Name: count, dtype: int64\n"
     ]
    }
   ],
   "source": [
    "# Cellule de vérification : Distribution des classes dans la variable cible (y_log)\n",
    "print(\"\\nDistribution des classes dans la variable cible 'Passed_Course' (y_log) dans le dataset complet :\")\n",
    "print(y_log.value_counts())\n"
   ]
  },
  {
   "cell_type": "markdown",
   "id": "ed76fe2c-c089-4e77-be2a-5dc4f2be2a31",
   "metadata": {},
   "source": [
    "## Étape 11 : Construire et Entraîner le Modèle de Régression Logistique\n",
    "On crée une instance de LogisticRegression et on l'entraîne. La régression logistique modélise la probabilité d'appartenance à une classe."
   ]
  },
  {
   "cell_type": "code",
   "execution_count": 91,
   "id": "a8372549-e757-4403-bd8a-d871cd7a319b",
   "metadata": {},
   "outputs": [
    {
     "name": "stdout",
     "output_type": "stream",
     "text": [
      "\n",
      "Modèle de Régression Logistique entraîné.\n"
     ]
    }
   ],
   "source": [
    "# Créer une instance du modèle de Régression Logistique\n",
    "model_log = LogisticRegression(solver='liblinear', random_state=0)\n",
    "\n",
    "# Entraîner le modèle\n",
    "model_log.fit(X_train_log, y_train_log)\n",
    "\n",
    "print(\"\\nModèle de Régression Logistique entraîné.\")"
   ]
  },
  {
   "cell_type": "markdown",
   "id": "5d79dbb6-332c-4bdb-99ea-677db3e15397",
   "metadata": {},
   "source": [
    "## Étape 12 : Faire des Prédictions et Évaluer le Modèle Logistique\n",
    "On prédit les classes (0 ou 1) pour l'ensemble de test et on évalue le modèle avec des métriques adaptées à la classification comme l'accuracy, la matrice de confusion, et le rapport de classification (précision, rappel, F1-score)."
   ]
  },
  {
   "cell_type": "code",
   "execution_count": 94,
   "id": "a046df24-81fc-473d-a1b3-559895a345ee",
   "metadata": {},
   "outputs": [
    {
     "name": "stdout",
     "output_type": "stream",
     "text": [
      "\n",
      "--- Évaluation du Modèle de Régression Logistique ---\n",
      "Accuracy (Précision Globale) : 0.96\n",
      "\n",
      "Matrice de Confusion :\n",
      "[[ 13   5]\n",
      " [  2 180]]\n",
      "\n",
      "Rapport de Classification :\n",
      "              precision    recall  f1-score   support\n",
      "\n",
      "           0       0.87      0.72      0.79        18\n",
      "           1       0.97      0.99      0.98       182\n",
      "\n",
      "    accuracy                           0.96       200\n",
      "   macro avg       0.92      0.86      0.88       200\n",
      "weighted avg       0.96      0.96      0.96       200\n",
      "\n"
     ]
    }
   ],
   "source": [
    "# Faire des prédictions sur l'ensemble de test\n",
    "y_pred_log = model_log.predict(X_test_log)\n",
    "\n",
    "# Évaluer le modèle\n",
    "accuracy = accuracy_score(y_test_log, y_pred_log)\n",
    "conf_matrix = confusion_matrix(y_test_log, y_pred_log)\n",
    "class_report = classification_report(y_test_log, y_pred_log)\n",
    "\n",
    "print(\"\\n--- Évaluation du Modèle de Régression Logistique ---\")\n",
    "print(f\"Accuracy (Précision Globale) : {accuracy:.2f}\")\n",
    "print(\"\\nMatrice de Confusion :\")\n",
    "print(conf_matrix)\n",
    "print(\"\\nRapport de Classification :\")\n",
    "print(class_report)"
   ]
  },
  {
   "cell_type": "markdown",
   "id": "26408347-bbbc-4383-b49e-e61686c1eb7a",
   "metadata": {},
   "source": [
    "## Étape 13 : Visualisation 2D de la Régression Logistique (avec un seul prédicteur)\n"
   ]
  },
  {
   "cell_type": "code",
   "execution_count": 96,
   "id": "641c5025-1cba-457a-97f1-68a03a8fdf14",
   "metadata": {},
   "outputs": [
    {
     "name": "stdout",
     "output_type": "stream",
     "text": [
      "\n",
      "Visualisation 2D de la Régression Logistique (Hours_Studied vs Passed_Course)...\n"
     ]
    },
    {
     "name": "stderr",
     "output_type": "stream",
     "text": [
      "D:\\Anaconda\\Lib\\site-packages\\sklearn\\base.py:493: UserWarning: X does not have valid feature names, but LogisticRegression was fitted with feature names\n",
      "  warnings.warn(\n"
     ]
    },
    {
     "data": {
      "image/png": "[encoded data removed]",
      "text/plain": [
       "<Figure size 1000x600 with 1 Axes>"
      ]
     },
     "metadata": {},
     "output_type": "display_data"
    }
   ],
   "source": [
    "# On prend le prédicteur que l'on veut visualiser (ici Hours_Studied)\n",
    "X_visualisation = data[['Hours_Studied']]\n",
    "# Et la variable cible binaire\n",
    "y_visualisation = data['Passed_Course']\n",
    "\n",
    "# On l'entraîne sur le dataset complet pour avoir une courbe basée sur toutes les données\n",
    "model_log_visualisation = LogisticRegression(solver='liblinear', random_state=0)\n",
    "model_log_visualisation.fit(X_visualisation, y_visualisation)\n",
    "\n",
    "# On prend des points entre la valeur min et max de Hours_Studied dans tout le dataset\n",
    "X_range_vis = np.linspace(X_visualisation['Hours_Studied'].min(), X_visualisation['Hours_Studied'].max(), 300).reshape(-1, 1)\n",
    "\n",
    "# On prend la deuxième colonne (index 1) qui correspond à la probabilité de la classe positive (1, Réussite)\n",
    "y_proba_vis = model_log_visualisation.predict_proba(X_range_vis)[:, 1]\n",
    "\n",
    "# 5. Tracer le graphique\n",
    "\n",
    "plt.figure(figsize=(10, 6))\n",
    "\n",
    "# Tracer les points réels du dataset\n",
    "# On sépare les points des échecs (0) et des réussites (1) pour mieux les visualiser\n",
    "plt.scatter(data[data['Passed_Course'] == 0]['Hours_Studied'], data[data['Passed_Course'] == 0]['Passed_Course'], color='red', label='Échec (0)', alpha=0.6)\n",
    "plt.scatter(data[data['Passed_Course'] == 1]['Hours_Studied'], data[data['Passed_Course'] == 1]['Passed_Course'], color='green', label='Réussite (1)', alpha=0.6)\n",
    "\n",
    "# Tracer la courbe sigmoïde\n",
    "plt.plot(X_range_vis, y_proba_vis, color='blue', linewidth=2, label='Probabilité de Réussite (Sigmoïde)')\n",
    "\n",
    "# Ajouter une ligne horizontale à y=0.5 qui représente la frontière de décision\n",
    "# Au-dessus de cette ligne, la probabilité prédite est > 0.5, donc la classe prédite est 1\n",
    "plt.axhline(0.5, color='gray', linestyle='--', label='Frontière de Décision')\n",
    "\n",
    "# Ajouter titres et labels\n",
    "plt.title('Régression Logistique : Probabilité de Réussite vs Heures Étudiées')\n",
    "plt.xlabel('Heures Étudiées par Semaine')\n",
    "plt.ylabel('Probabilité Prédite de Réussite') # L'axe Y représente la probabilité\n",
    "plt.yticks([0, 0.5, 1]) # Pour afficher des valeurs importantes sur l'axe Y\n",
    "plt.legend()\n",
    "plt.grid(True)\n",
    "plt.show()"
   ]
  },
  {
   "cell_type": "code",
   "execution_count": null,
   "id": "161a0394-9ab1-4cda-a3ae-cbf4d79799bd",
   "metadata": {},
   "outputs": [],
   "source": []
  }
 ],
 "metadata": {
  "kernelspec": {
   "display_name": "Python 3 (ipykernel)",
   "language": "python",
   "name": "python3"
  },
  "language_info": {
   "codemirror_mode": {
    "name": "ipython",
    "version": 3
   },
   "file_extension": ".py",
   "mimetype": "text/x-python",
   "name": "python",
   "nbconvert_exporter": "python",
   "pygments_lexer": "ipython3",
   "version": "3.12.7"
  }
 },
 "nbformat": 4,
 "nbformat_minor": 5
}
