{
 "cells": [
  {
   "cell_type": "markdown",
   "id": "bc268623-a4d8-484a-bd28-57f3c121305c",
   "metadata": {},
   "source": [
    "# TP - Analyse de la Performance des Étudiants\n",
    "\n",
    "Ce notebook a pour objectif d'appliquer les concepts de régression linéaire et logistique sur un dataset personnalisé simulant des facteurs influençant la performance des étudiants.\n",
    "\n",
    "## Dataset\n",
    "Généré via <b>Mockaroo</b>, comprenant les colonnes :\n",
    "- `Hours_Studied`\n",
    "- `Previous_Score`\n",
    "- `Attendance_Rate`\n",
    "- `Final_Exam_Score`\n",
    "- `Passed_Course`\n",
    "\n"
   ]
  },
  {
   "cell_type": "markdown",
   "id": "a1542460-a60d-42b3-ae88-6773b8c239e1",
   "metadata": {},
   "source": [
    "## Étape 1 : Importer les Bibliothèques Nécessaires\n",
    "\n",
    "On commence par importer les outils dont on aura besoin : pandas pour manipuler les données, numpy (souvent utile), matplotlib pour les visualisations, et les modules de sklearn pour la régression et la séparation des données.\n"
   ]
  },
  {
   "cell_type": "code",
   "execution_count": 3,
   "id": "698088de-e19a-4f87-a45f-f3185a34ee69",
   "metadata": {},
   "outputs": [],
   "source": [
    "# Importation des bibliothèques\n",
    "import pandas as pd\n",
    "import numpy as np\n",
    "import matplotlib.pyplot as plt\n",
    "\n",
    "# Importation des modèles et outils de sklearn\n",
    "from sklearn.model_selection import train_test_split\n",
    "from sklearn.linear_model import LinearRegression\n",
    "from sklearn.linear_model import LogisticRegression\n",
    "from sklearn.metrics import mean_absolute_error, mean_squared_error, r2_score # Pour évaluer la régression linéaire\n",
    "from sklearn.metrics import accuracy_score, confusion_matrix, classification_report # Pour évaluer la régression logistique"
   ]
  },
  {
   "cell_type": "markdown",
   "id": "eeb71797-918a-4daf-8433-b5dce893a508",
   "metadata": {},
   "source": [
    "## Étape 2 : Charger le Dataset\n",
    "\n",
    "Charge ton fichier CSV généré par Mockaroo dans un DataFrame pandas. Assure-toi que le fichier se trouve dans le même répertoire que ton notebook, ou spécifie le chemin complet."
   ]
  },
  {
   "cell_type": "code",
   "execution_count": 6,
   "id": "944f2617-6d1b-41a8-a31c-ed49c0ba9aff",
   "metadata": {},
   "outputs": [],
   "source": [
    "data = pd.read_csv('dataset_etudiant.csv')"
   ]
  },
  {
   "cell_type": "markdown",
   "id": "9cc6eb6a-8a9c-47f5-8f26-45f8c8bdf56f",
   "metadata": {},
   "source": [
    "## Étape 3 : Explorer les Données\n",
    "\n",
    "Regarde les premières lignes du dataset, les informations sur les colonnes (types de données, valeurs manquantes) et éventuellement quelques statistiques descriptives."
   ]
  },
  {
   "cell_type": "code",
   "execution_count": 9,
   "id": "cff23c1e-8520-45dd-a27e-f75e5cc46d3a",
   "metadata": {},
   "outputs": [
    {
     "name": "stdout",
     "output_type": "stream",
     "text": [
      "Aperçu des premières lignes :\n"
     ]
    },
    {
     "data": {
      "text/html": [
       "<div>\n",
       "<style scoped>\n",
       "    .dataframe tbody tr th:only-of-type {\n",
       "        vertical-align: middle;\n",
       "    }\n",
       "\n",
       "    .dataframe tbody tr th {\n",
       "        vertical-align: top;\n",
       "    }\n",
       "\n",
       "    .dataframe thead th {\n",
       "        text-align: right;\n",
       "    }\n",
       "</style>\n",
       "<table border=\"1\" class=\"dataframe\">\n",
       "  <thead>\n",
       "    <tr style=\"text-align: right;\">\n",
       "      <th></th>\n",
       "      <th>Hours_Studied</th>\n",
       "      <th>Previous_Score</th>\n",
       "      <th>Attendance_Rate</th>\n",
       "      <th>Final_Exam_Score</th>\n",
       "      <th>Passed_Course</th>\n",
       "    </tr>\n",
       "  </thead>\n",
       "  <tbody>\n",
       "    <tr>\n",
       "      <th>0</th>\n",
       "      <td>24</td>\n",
       "      <td>11</td>\n",
       "      <td>98</td>\n",
       "      <td>20.000000</td>\n",
       "      <td>1</td>\n",
       "    </tr>\n",
       "    <tr>\n",
       "      <th>1</th>\n",
       "      <td>19</td>\n",
       "      <td>18</td>\n",
       "      <td>11</td>\n",
       "      <td>20.000000</td>\n",
       "      <td>1</td>\n",
       "    </tr>\n",
       "    <tr>\n",
       "      <th>2</th>\n",
       "      <td>22</td>\n",
       "      <td>13</td>\n",
       "      <td>57</td>\n",
       "      <td>20.000000</td>\n",
       "      <td>1</td>\n",
       "    </tr>\n",
       "    <tr>\n",
       "      <th>3</th>\n",
       "      <td>7</td>\n",
       "      <td>9</td>\n",
       "      <td>11</td>\n",
       "      <td>13.362248</td>\n",
       "      <td>1</td>\n",
       "    </tr>\n",
       "    <tr>\n",
       "      <th>4</th>\n",
       "      <td>8</td>\n",
       "      <td>10</td>\n",
       "      <td>54</td>\n",
       "      <td>15.088783</td>\n",
       "      <td>1</td>\n",
       "    </tr>\n",
       "  </tbody>\n",
       "</table>\n",
       "</div>"
      ],
      "text/plain": [
       "   Hours_Studied  Previous_Score  Attendance_Rate  Final_Exam_Score  \\\n",
       "0             24              11               98         20.000000   \n",
       "1             19              18               11         20.000000   \n",
       "2             22              13               57         20.000000   \n",
       "3              7               9               11         13.362248   \n",
       "4              8              10               54         15.088783   \n",
       "\n",
       "   Passed_Course  \n",
       "0              1  \n",
       "1              1  \n",
       "2              1  \n",
       "3              1  \n",
       "4              1  "
      ]
     },
     "execution_count": 9,
     "metadata": {},
     "output_type": "execute_result"
    }
   ],
   "source": [
    "#Afficher les premières lignes du dataset\n",
    "print(\"Aperçu des premières lignes :\")\n",
    "data.head()"
   ]
  },
  {
   "cell_type": "code",
   "execution_count": 11,
   "id": "d303d6ee-af5b-4aa3-b732-b7fe72898bb1",
   "metadata": {},
   "outputs": [
    {
     "name": "stdout",
     "output_type": "stream",
     "text": [
      "\n",
      "Statistiques descriptives :\n"
     ]
    },
    {
     "data": {
      "text/html": [
       "<div>\n",
       "<style scoped>\n",
       "    .dataframe tbody tr th:only-of-type {\n",
       "        vertical-align: middle;\n",
       "    }\n",
       "\n",
       "    .dataframe tbody tr th {\n",
       "        vertical-align: top;\n",
       "    }\n",
       "\n",
       "    .dataframe thead th {\n",
       "        text-align: right;\n",
       "    }\n",
       "</style>\n",
       "<table border=\"1\" class=\"dataframe\">\n",
       "  <thead>\n",
       "    <tr style=\"text-align: right;\">\n",
       "      <th></th>\n",
       "      <th>Hours_Studied</th>\n",
       "      <th>Previous_Score</th>\n",
       "      <th>Attendance_Rate</th>\n",
       "      <th>Final_Exam_Score</th>\n",
       "      <th>Passed_Course</th>\n",
       "    </tr>\n",
       "  </thead>\n",
       "  <tbody>\n",
       "    <tr>\n",
       "      <th>count</th>\n",
       "      <td>1000.000000</td>\n",
       "      <td>1000.000000</td>\n",
       "      <td>1000.000000</td>\n",
       "      <td>1000.000000</td>\n",
       "      <td>1000.0</td>\n",
       "    </tr>\n",
       "    <tr>\n",
       "      <th>mean</th>\n",
       "      <td>17.085000</td>\n",
       "      <td>12.976000</td>\n",
       "      <td>50.620000</td>\n",
       "      <td>18.632600</td>\n",
       "      <td>1.0</td>\n",
       "    </tr>\n",
       "    <tr>\n",
       "      <th>std</th>\n",
       "      <td>7.450993</td>\n",
       "      <td>3.109517</td>\n",
       "      <td>28.853806</td>\n",
       "      <td>2.012202</td>\n",
       "      <td>0.0</td>\n",
       "    </tr>\n",
       "    <tr>\n",
       "      <th>min</th>\n",
       "      <td>5.000000</td>\n",
       "      <td>8.000000</td>\n",
       "      <td>0.000000</td>\n",
       "      <td>12.352565</td>\n",
       "      <td>1.0</td>\n",
       "    </tr>\n",
       "    <tr>\n",
       "      <th>25%</th>\n",
       "      <td>11.000000</td>\n",
       "      <td>10.000000</td>\n",
       "      <td>27.000000</td>\n",
       "      <td>17.382005</td>\n",
       "      <td>1.0</td>\n",
       "    </tr>\n",
       "    <tr>\n",
       "      <th>50%</th>\n",
       "      <td>17.000000</td>\n",
       "      <td>13.000000</td>\n",
       "      <td>51.000000</td>\n",
       "      <td>20.000000</td>\n",
       "      <td>1.0</td>\n",
       "    </tr>\n",
       "    <tr>\n",
       "      <th>75%</th>\n",
       "      <td>23.000000</td>\n",
       "      <td>16.000000</td>\n",
       "      <td>76.000000</td>\n",
       "      <td>20.000000</td>\n",
       "      <td>1.0</td>\n",
       "    </tr>\n",
       "    <tr>\n",
       "      <th>max</th>\n",
       "      <td>30.000000</td>\n",
       "      <td>18.000000</td>\n",
       "      <td>100.000000</td>\n",
       "      <td>20.000000</td>\n",
       "      <td>1.0</td>\n",
       "    </tr>\n",
       "  </tbody>\n",
       "</table>\n",
       "</div>"
      ],
      "text/plain": [
       "       Hours_Studied  Previous_Score  Attendance_Rate  Final_Exam_Score  \\\n",
       "count    1000.000000     1000.000000      1000.000000       1000.000000   \n",
       "mean       17.085000       12.976000        50.620000         18.632600   \n",
       "std         7.450993        3.109517        28.853806          2.012202   \n",
       "min         5.000000        8.000000         0.000000         12.352565   \n",
       "25%        11.000000       10.000000        27.000000         17.382005   \n",
       "50%        17.000000       13.000000        51.000000         20.000000   \n",
       "75%        23.000000       16.000000        76.000000         20.000000   \n",
       "max        30.000000       18.000000       100.000000         20.000000   \n",
       "\n",
       "       Passed_Course  \n",
       "count         1000.0  \n",
       "mean             1.0  \n",
       "std              0.0  \n",
       "min              1.0  \n",
       "25%              1.0  \n",
       "50%              1.0  \n",
       "75%              1.0  \n",
       "max              1.0  "
      ]
     },
     "execution_count": 11,
     "metadata": {},
     "output_type": "execute_result"
    }
   ],
   "source": [
    "print(\"\\nStatistiques descriptives :\")\n",
    "data.describe()"
   ]
  },
  {
   "cell_type": "code",
   "execution_count": 13,
   "id": "d298b608-d1bf-4c32-945c-ee88b6bfd109",
   "metadata": {},
   "outputs": [
    {
     "name": "stdout",
     "output_type": "stream",
     "text": [
      "\n",
      "Informations sur le dataset :\n",
      "<class 'pandas.core.frame.DataFrame'>\n",
      "RangeIndex: 1000 entries, 0 to 999\n",
      "Data columns (total 5 columns):\n",
      " #   Column            Non-Null Count  Dtype  \n",
      "---  ------            --------------  -----  \n",
      " 0   Hours_Studied     1000 non-null   int64  \n",
      " 1   Previous_Score    1000 non-null   int64  \n",
      " 2   Attendance_Rate   1000 non-null   int64  \n",
      " 3   Final_Exam_Score  1000 non-null   float64\n",
      " 4   Passed_Course     1000 non-null   int64  \n",
      "dtypes: float64(1), int64(4)\n",
      "memory usage: 39.2 KB\n"
     ]
    }
   ],
   "source": [
    "# Afficher les informations sur le dataset\n",
    "print(\"\\nInformations sur le dataset :\")\n",
    "data.info()"
   ]
  },
  {
   "cell_type": "markdown",
   "id": "7ef351f9-9de2-44a6-928c-9c881e479f4a",
   "metadata": {},
   "source": [
    "# Partie 1 : Régression Linéaire - Prédire la Note Finale (`Final_Exam_Score`)\n",
    "Ici, on va construire un modèle pour prédire la note exacte de l'examen final en fonction des heures étudiées, de la note précédente et du taux de présence.\n",
    "\n",
    "## Étape 4 : Préparer les Données pour la Régression Linéaire\n",
    "Ici, on choisit explicitement une seule variable explicative (`Hours_Studied`) et la variable cible (``Final_Exam_Score``)."
   ]
  },
  {
   "cell_type": "code",
   "execution_count": 16,
   "id": "5d9dcb12-f636-4050-847c-fbc3e9fe625f",
   "metadata": {},
   "outputs": [],
   "source": [
    "# Sélectionner les variables explicatives (X) et la variable cible (y)\n",
    "X_lin = data[['Hours_Studied']] \n",
    "y_lin = data['Final_Exam_Score'] "
   ]
  },
  {
   "cell_type": "markdown",
   "id": "ecfe7463-798f-49e3-b11c-8c6cf8133de7",
   "metadata": {},
   "source": [
    "## Étape 5 : Séparer les Données en Ensembles d'Entraînement et de Test\n",
    "On divise le dataset en deux sous-ensembles : un pour entraîner le modèle (Train) et un autre pour évaluer sa performance sur des données qu'il n'a jamais vues (Test)."
   ]
  },
  {
   "cell_type": "code",
   "execution_count": 19,
   "id": "219a9cd7-6715-45db-9b04-c4ac2576f769",
   "metadata": {},
   "outputs": [
    {
     "name": "stdout",
     "output_type": "stream",
     "text": [
      "\n",
      "Dimensions des ensembles Training (Linéaire) : X=(800, 1), y=(800,)\n",
      "Dimensions des ensembles Test (Linéaire) : X=(200, 1), y=(200,)\n"
     ]
    }
   ],
   "source": [
    "# Séparer les données en training set et test set\n",
    "# On utilise 80% pour l'entraînement et 20% pour le test \n",
    "X_train_lin, X_test_lin, y_train_lin, y_test_lin = train_test_split(X_lin, y_lin, test_size=0.2, random_state=0)\n",
    "\n",
    "print(f\"\\nDimensions des ensembles Training (Linéaire) : X={X_train_lin.shape}, y={y_train_lin.shape}\")\n",
    "print(f\"Dimensions des ensembles Test (Linéaire) : X={X_test_lin.shape}, y={y_test_lin.shape}\")"
   ]
  },
  {
   "cell_type": "markdown",
   "id": "fb8232e6-f853-49b6-9c6a-fba0723761a6",
   "metadata": {},
   "source": [
    "## Étape 6 : Construire et Entraîner le Modèle de Régression Linéaire\n",
    "On crée une instance du modèle LinearRegression et on l'entraîne sur les données d'entraînement."
   ]
  },
  {
   "cell_type": "code",
   "execution_count": 22,
   "id": "bfd1224e-2315-4ac1-83cf-c3e3f3d2b50c",
   "metadata": {},
   "outputs": [
    {
     "name": "stdout",
     "output_type": "stream",
     "text": [
      "\n",
      "Modèle de Régression Linéaire entraîné.\n",
      "Coefficients (pentes) : [0.21434449]\n",
      "Intercept : 14.984176678645415\n"
     ]
    }
   ],
   "source": [
    "# Créer une instance du modèle de Régression Linéaire\n",
    "model_lin = LinearRegression()\n",
    "\n",
    "# Entraîner le modèle sur les données d'entraînement\n",
    "model_lin.fit(X_train_lin, y_train_lin)\n",
    "\n",
    "print(\"\\nModèle de Régression Linéaire entraîné.\")\n",
    "# Afficher les coefficients et l'intercept \n",
    "print(f\"Coefficients (pentes) : {model_lin.coef_}\")\n",
    "print(f\"Intercept : {model_lin.intercept_}\")"
   ]
  },
  {
   "cell_type": "markdown",
   "id": "95d9572a-5e30-4748-a0f7-90e4d724e55f",
   "metadata": {},
   "source": [
    "## Étape 7 : Faire des Prédictions et Évaluer le Modèle Linéaire\n",
    "On utilise le modèle entraîné pour prédire les notes sur l'ensemble de test, puis on évalue la performance du modèle à l'aide de métriques comme MAE, MSE et R² Score."
   ]
  },
  {
   "cell_type": "code",
   "execution_count": 25,
   "id": "384ad4e7-2bd1-4fb9-8774-5dc16c9c8144",
   "metadata": {},
   "outputs": [
    {
     "name": "stdout",
     "output_type": "stream",
     "text": [
      "\n",
      "--- Évaluation du Modèle de Régression Linéaire ---\n",
      "Erreur Absolue Moyenne (MAE) : 1.00\n",
      "Erreur Quadratique Moyenne (MSE) : 1.47\n",
      "Racine Carrée de l'Erreur Quadratique Moyenne (RMSE) : 1.21\n",
      "Coefficient de Détermination (R²) : 0.67\n"
     ]
    }
   ],
   "source": [
    "# Faire des prédictions sur l'ensemble de test\n",
    "y_pred_lin = model_lin.predict(X_test_lin)\n",
    "\n",
    "# Évaluer le modèle\n",
    "mae = mean_absolute_error(y_test_lin, y_pred_lin)\n",
    "mse = mean_squared_error(y_test_lin, y_pred_lin)\n",
    "rmse = np.sqrt(mse) # La racine carrée du MSE\n",
    "r2 = r2_score(y_test_lin, y_pred_lin) # Coefficient de détermination R²\n",
    "\n",
    "print(\"\\n--- Évaluation du Modèle de Régression Linéaire ---\")\n",
    "print(f\"Erreur Absolue Moyenne (MAE) : {mae:.2f}\")\n",
    "print(f\"Erreur Quadratique Moyenne (MSE) : {mse:.2f}\")\n",
    "print(f\"Racine Carrée de l'Erreur Quadratique Moyenne (RMSE) : {rmse:.2f}\")\n",
    "print(f\"Coefficient de Détermination (R²) : {r2:.2f}\")"
   ]
  },
  {
   "cell_type": "markdown",
   "id": "3a8da339-9039-42a6-8b65-569b560ecf73",
   "metadata": {},
   "source": [
    "## Étape 8 : Visualiser les Résultats \n",
    "Cette étape est simplifiée pour tracer les points du test et la seule droite de régression (``y = intercept + coef * x``)."
   ]
  },
  {
   "cell_type": "code",
   "execution_count": 28,
   "id": "7f63b59f-204c-4de3-8251-e1954137dc09",
   "metadata": {},
   "outputs": [
    {
     "name": "stdout",
     "output_type": "stream",
     "text": [
      "\n",
      "Visualisation des résultats de la Régression Linéaire Simple :\n"
     ]
    },
    {
     "name": "stderr",
     "output_type": "stream",
     "text": [
      "D:\\Anaconda\\Lib\\site-packages\\sklearn\\base.py:493: UserWarning: X does not have valid feature names, but LinearRegression was fitted with feature names\n",
      "  warnings.warn(\n"
     ]
    },
    {
     "data": {
      "image/png": "[encoded data removed]",
      "text/plain": [
       "<Figure size 1000x600 with 1 Axes>"
      ]
     },
     "metadata": {},
     "output_type": "display_data"
    }
   ],
   "source": [
    "print(\"\\nVisualisation des résultats de la Régression Linéaire Simple :\")\n",
    "\n",
    "plt.figure(figsize=(10, 6))\n",
    "\n",
    "# Tracer les points de l'ensemble de test (Heures Étudiées vs Note Finale Réelle)\n",
    "plt.scatter(X_test_lin['Hours_Studied'], y_test_lin, color='blue', label='Points Réels (Test)')\n",
    "\n",
    "# Tracer la droite de régression\n",
    "x_for_plot = np.linspace(X_test_lin['Hours_Studied'].min(), X_test_lin['Hours_Studied'].max(), 100).reshape(-1, 1)\n",
    "\n",
    "# Prédire les valeurs y correspondant à ces points x_for_plot en utilisant le modèle entraîné\n",
    "y_for_plot = model_lin.predict(x_for_plot)\n",
    "\n",
    "# Tracer la droite en connectant les points (x_for_plot, y_for_plot)\n",
    "plt.plot(x_for_plot, y_for_plot, color='red', linewidth=2, label='Droite de Régression')\n",
    "\n",
    "# Ajouter titres et labels\n",
    "plt.title('Régression Linéaire Simple : Note Finale vs Heures Étudiées')\n",
    "plt.xlabel('Heures Étudiées par Semaine')\n",
    "plt.ylabel('Note Examen Final')\n",
    "plt.legend() # Affiche la légende (Points Réels, Droite de Régression)\n",
    "plt.grid(True) # Ajoute une grille\n",
    "plt.show() # Affiche le graphique"
   ]
  },
  {
   "cell_type": "markdown",
   "id": "26b12bbe-65d5-425c-b0aa-0c68e293d6d8",
   "metadata": {},
   "source": [
    "# Partie 2 : Régression Logistique - Prédire la Réussite au Cours (``Passed_Course``)\n",
    "Maintenant, on va construire un modèle pour prédire si un étudiant réussira ou non le cours (un résultat binaire).\n",
    "\n",
    "## Étape 9 : Préparer les Données pour la Régression Logistique\n",
    "On utilise les mêmes variables explicatives (X) mais la variable cible change."
   ]
  },
  {
   "cell_type": "code",
   "execution_count": 31,
   "id": "76b51729-3fd3-4afb-813f-6490983e1e09",
   "metadata": {},
   "outputs": [],
   "source": [
    "# Sélectionner les variables explicatives (X) et la nouvelle variable cible binaire (y)\n",
    "X_log = data[['Hours_Studied', 'Previous_Score', 'Attendance_Rate']] \n",
    "y_log = data['Passed_Course'] # 0 ou 1)"
   ]
  },
  {
   "cell_type": "markdown",
   "id": "37643e7e-458d-4f1d-807f-32928ada70ce",
   "metadata": {},
   "source": [
    "## Étape 10 : Séparer les Données en Ensembles d'Entraînement et de Test\n",
    "On sépare à nouveau les données. On peut utiliser les mêmes proportions que pour la régression linéaire."
   ]
  },
  {
   "cell_type": "code",
   "execution_count": 39,
   "id": "9bc01c47-3ef9-4e52-84fa-ac0def13462d",
   "metadata": {},
   "outputs": [
    {
     "name": "stdout",
     "output_type": "stream",
     "text": [
      "\n",
      "Séparation des données en ensembles d'entraînement et de test pour la Régression Logistique...\n",
      "Dimensions ensembles Training (Logistique) : X=(800, 3), y=(800,)\n",
      "Dimensions ensembles Test (Logistique) : X=(200, 3), y=(200,)\n"
     ]
    }
   ],
   "source": [
    "# Séparer les Données en training set et test set \n",
    "\n",
    "print(\"\\nSéparation des données en ensembles d'entraînement et de test pour la Régression Logistique...\")\n",
    "\n",
    "# Sélectionner les variables explicatives (X) et la variable cible binaire (y)\n",
    "# Assure-toi que X_log contient toujours tous tes prédicteurs si tu les utilises\n",
    "# pour le modèle principal (Hours_Studied, Previous_Score, Attendance_Rate)\n",
    "# y_log est la colonne binaire Passed_Course\n",
    "\n",
    "# Ajout de stratify=y_log pour garantir que les deux classes (0 et 1) sont présentes dans les ensembles train et test\n",
    "# Ceci corrige l'erreur \"ValueError: This solver needs samples of at least 2 classes...\"\n",
    "X_train_log, X_test_log, y_train_log, y_test_log = train_test_split(X_log, y_log, test_size=0.2, random_state=0, stratify=y_log)\n",
    "\n",
    "print(f\"Dimensions ensembles Training (Logistique) : X={X_train_log.shape}, y={y_train_log.shape}\")\n",
    "print(f\"Dimensions ensembles Test (Logistique) : X={X_test_log.shape}, y={y_test_log.shape}\")\n",
    "\n",
    "# Tu peux ajouter ces lignes pour vérifier que les deux classes sont bien là après le split\n",
    "# print(\"\\nDistribution des classes dans y_train_log :\")\n",
    "# print(y_train_log.value_counts())\n",
    "# print(\"\\nDistribution des classes dans y_test_log :\")\n",
    "# print(y_test_log.value_counts())"
   ]
  },
  {
   "cell_type": "markdown",
   "id": "ed76fe2c-c089-4e77-be2a-5dc4f2be2a31",
   "metadata": {},
   "source": [
    "## Étape 11 : Construire et Entraîner le Modèle de Régression Logistique\n",
    "On crée une instance de LogisticRegression et on l'entraîne. La régression logistique modélise la probabilité d'appartenance à une classe."
   ]
  },
  {
   "cell_type": "code",
   "execution_count": 42,
   "id": "a8372549-e757-4403-bd8a-d871cd7a319b",
   "metadata": {},
   "outputs": [
    {
     "ename": "ValueError",
     "evalue": "This solver needs samples of at least 2 classes in the data, but the data contains only one class: 1",
     "output_type": "error",
     "traceback": [
      "\u001b[1;31m---------------------------------------------------------------------------\u001b[0m",
      "\u001b[1;31mValueError\u001b[0m                                Traceback (most recent call last)",
      "Cell \u001b[1;32mIn[42], line 5\u001b[0m\n\u001b[0;32m      2\u001b[0m model_log \u001b[38;5;241m=\u001b[39m LogisticRegression(solver\u001b[38;5;241m=\u001b[39m\u001b[38;5;124m'\u001b[39m\u001b[38;5;124mliblinear\u001b[39m\u001b[38;5;124m'\u001b[39m, random_state\u001b[38;5;241m=\u001b[39m\u001b[38;5;241m0\u001b[39m)\n\u001b[0;32m      4\u001b[0m \u001b[38;5;66;03m# Entraîner le modèle\u001b[39;00m\n\u001b[1;32m----> 5\u001b[0m model_log\u001b[38;5;241m.\u001b[39mfit(X_train_log, y_train_log)\n\u001b[0;32m      7\u001b[0m \u001b[38;5;28mprint\u001b[39m(\u001b[38;5;124m\"\u001b[39m\u001b[38;5;130;01m\\n\u001b[39;00m\u001b[38;5;124mModèle de Régression Logistique entraîné.\u001b[39m\u001b[38;5;124m\"\u001b[39m)\n",
      "File \u001b[1;32mD:\\Anaconda\\Lib\\site-packages\\sklearn\\base.py:1473\u001b[0m, in \u001b[0;36m_fit_context.<locals>.decorator.<locals>.wrapper\u001b[1;34m(estimator, *args, **kwargs)\u001b[0m\n\u001b[0;32m   1466\u001b[0m     estimator\u001b[38;5;241m.\u001b[39m_validate_params()\n\u001b[0;32m   1468\u001b[0m \u001b[38;5;28;01mwith\u001b[39;00m config_context(\n\u001b[0;32m   1469\u001b[0m     skip_parameter_validation\u001b[38;5;241m=\u001b[39m(\n\u001b[0;32m   1470\u001b[0m         prefer_skip_nested_validation \u001b[38;5;129;01mor\u001b[39;00m global_skip_validation\n\u001b[0;32m   1471\u001b[0m     )\n\u001b[0;32m   1472\u001b[0m ):\n\u001b[1;32m-> 1473\u001b[0m     \u001b[38;5;28;01mreturn\u001b[39;00m fit_method(estimator, \u001b[38;5;241m*\u001b[39margs, \u001b[38;5;241m*\u001b[39m\u001b[38;5;241m*\u001b[39mkwargs)\n",
      "File \u001b[1;32mD:\\Anaconda\\Lib\\site-packages\\sklearn\\linear_model\\_logistic.py:1276\u001b[0m, in \u001b[0;36mLogisticRegression.fit\u001b[1;34m(self, X, y, sample_weight)\u001b[0m\n\u001b[0;32m   1270\u001b[0m     \u001b[38;5;28;01mif\u001b[39;00m effective_n_jobs(\u001b[38;5;28mself\u001b[39m\u001b[38;5;241m.\u001b[39mn_jobs) \u001b[38;5;241m!=\u001b[39m \u001b[38;5;241m1\u001b[39m:\n\u001b[0;32m   1271\u001b[0m         warnings\u001b[38;5;241m.\u001b[39mwarn(\n\u001b[0;32m   1272\u001b[0m             \u001b[38;5;124m\"\u001b[39m\u001b[38;5;124m'\u001b[39m\u001b[38;5;124mn_jobs\u001b[39m\u001b[38;5;124m'\u001b[39m\u001b[38;5;124m > 1 does not have any effect when\u001b[39m\u001b[38;5;124m\"\u001b[39m\n\u001b[0;32m   1273\u001b[0m             \u001b[38;5;124m\"\u001b[39m\u001b[38;5;124m \u001b[39m\u001b[38;5;124m'\u001b[39m\u001b[38;5;124msolver\u001b[39m\u001b[38;5;124m'\u001b[39m\u001b[38;5;124m is set to \u001b[39m\u001b[38;5;124m'\u001b[39m\u001b[38;5;124mliblinear\u001b[39m\u001b[38;5;124m'\u001b[39m\u001b[38;5;124m. Got \u001b[39m\u001b[38;5;124m'\u001b[39m\u001b[38;5;124mn_jobs\u001b[39m\u001b[38;5;124m'\u001b[39m\u001b[38;5;124m\"\u001b[39m\n\u001b[0;32m   1274\u001b[0m             \u001b[38;5;124m\"\u001b[39m\u001b[38;5;124m = \u001b[39m\u001b[38;5;132;01m{}\u001b[39;00m\u001b[38;5;124m.\u001b[39m\u001b[38;5;124m\"\u001b[39m\u001b[38;5;241m.\u001b[39mformat(effective_n_jobs(\u001b[38;5;28mself\u001b[39m\u001b[38;5;241m.\u001b[39mn_jobs))\n\u001b[0;32m   1275\u001b[0m         )\n\u001b[1;32m-> 1276\u001b[0m     \u001b[38;5;28mself\u001b[39m\u001b[38;5;241m.\u001b[39mcoef_, \u001b[38;5;28mself\u001b[39m\u001b[38;5;241m.\u001b[39mintercept_, \u001b[38;5;28mself\u001b[39m\u001b[38;5;241m.\u001b[39mn_iter_ \u001b[38;5;241m=\u001b[39m _fit_liblinear(\n\u001b[0;32m   1277\u001b[0m         X,\n\u001b[0;32m   1278\u001b[0m         y,\n\u001b[0;32m   1279\u001b[0m         \u001b[38;5;28mself\u001b[39m\u001b[38;5;241m.\u001b[39mC,\n\u001b[0;32m   1280\u001b[0m         \u001b[38;5;28mself\u001b[39m\u001b[38;5;241m.\u001b[39mfit_intercept,\n\u001b[0;32m   1281\u001b[0m         \u001b[38;5;28mself\u001b[39m\u001b[38;5;241m.\u001b[39mintercept_scaling,\n\u001b[0;32m   1282\u001b[0m         \u001b[38;5;28mself\u001b[39m\u001b[38;5;241m.\u001b[39mclass_weight,\n\u001b[0;32m   1283\u001b[0m         \u001b[38;5;28mself\u001b[39m\u001b[38;5;241m.\u001b[39mpenalty,\n\u001b[0;32m   1284\u001b[0m         \u001b[38;5;28mself\u001b[39m\u001b[38;5;241m.\u001b[39mdual,\n\u001b[0;32m   1285\u001b[0m         \u001b[38;5;28mself\u001b[39m\u001b[38;5;241m.\u001b[39mverbose,\n\u001b[0;32m   1286\u001b[0m         \u001b[38;5;28mself\u001b[39m\u001b[38;5;241m.\u001b[39mmax_iter,\n\u001b[0;32m   1287\u001b[0m         \u001b[38;5;28mself\u001b[39m\u001b[38;5;241m.\u001b[39mtol,\n\u001b[0;32m   1288\u001b[0m         \u001b[38;5;28mself\u001b[39m\u001b[38;5;241m.\u001b[39mrandom_state,\n\u001b[0;32m   1289\u001b[0m         sample_weight\u001b[38;5;241m=\u001b[39msample_weight,\n\u001b[0;32m   1290\u001b[0m     )\n\u001b[0;32m   1291\u001b[0m     \u001b[38;5;28;01mreturn\u001b[39;00m \u001b[38;5;28mself\u001b[39m\n\u001b[0;32m   1293\u001b[0m \u001b[38;5;28;01mif\u001b[39;00m solver \u001b[38;5;129;01min\u001b[39;00m [\u001b[38;5;124m\"\u001b[39m\u001b[38;5;124msag\u001b[39m\u001b[38;5;124m\"\u001b[39m, \u001b[38;5;124m\"\u001b[39m\u001b[38;5;124msaga\u001b[39m\u001b[38;5;124m\"\u001b[39m]:\n",
      "File \u001b[1;32mD:\\Anaconda\\Lib\\site-packages\\sklearn\\svm\\_base.py:1173\u001b[0m, in \u001b[0;36m_fit_liblinear\u001b[1;34m(X, y, C, fit_intercept, intercept_scaling, class_weight, penalty, dual, verbose, max_iter, tol, random_state, multi_class, loss, epsilon, sample_weight)\u001b[0m\n\u001b[0;32m   1171\u001b[0m     classes_ \u001b[38;5;241m=\u001b[39m enc\u001b[38;5;241m.\u001b[39mclasses_\n\u001b[0;32m   1172\u001b[0m     \u001b[38;5;28;01mif\u001b[39;00m \u001b[38;5;28mlen\u001b[39m(classes_) \u001b[38;5;241m<\u001b[39m \u001b[38;5;241m2\u001b[39m:\n\u001b[1;32m-> 1173\u001b[0m         \u001b[38;5;28;01mraise\u001b[39;00m \u001b[38;5;167;01mValueError\u001b[39;00m(\n\u001b[0;32m   1174\u001b[0m             \u001b[38;5;124m\"\u001b[39m\u001b[38;5;124mThis solver needs samples of at least 2 classes\u001b[39m\u001b[38;5;124m\"\u001b[39m\n\u001b[0;32m   1175\u001b[0m             \u001b[38;5;124m\"\u001b[39m\u001b[38;5;124m in the data, but the data contains only one\u001b[39m\u001b[38;5;124m\"\u001b[39m\n\u001b[0;32m   1176\u001b[0m             \u001b[38;5;124m\"\u001b[39m\u001b[38;5;124m class: \u001b[39m\u001b[38;5;132;01m%r\u001b[39;00m\u001b[38;5;124m\"\u001b[39m \u001b[38;5;241m%\u001b[39m classes_[\u001b[38;5;241m0\u001b[39m]\n\u001b[0;32m   1177\u001b[0m         )\n\u001b[0;32m   1179\u001b[0m     class_weight_ \u001b[38;5;241m=\u001b[39m compute_class_weight(class_weight, classes\u001b[38;5;241m=\u001b[39mclasses_, y\u001b[38;5;241m=\u001b[39my)\n\u001b[0;32m   1180\u001b[0m \u001b[38;5;28;01melse\u001b[39;00m:\n",
      "\u001b[1;31mValueError\u001b[0m: This solver needs samples of at least 2 classes in the data, but the data contains only one class: 1"
     ]
    }
   ],
   "source": [
    "# Créer une instance du modèle de Régression Logistique\n",
    "model_log = LogisticRegression(solver='liblinear', random_state=0)\n",
    "\n",
    "# Entraîner le modèle\n",
    "model_log.fit(X_train_log, y_train_log)\n",
    "\n",
    "print(\"\\nModèle de Régression Logistique entraîné.\")"
   ]
  },
  {
   "cell_type": "markdown",
   "id": "5d79dbb6-332c-4bdb-99ea-677db3e15397",
   "metadata": {},
   "source": [
    "## Étape 12 : Faire des Prédictions et Évaluer le Modèle Logistique\n",
    "On prédit les classes (0 ou 1) pour l'ensemble de test et on évalue le modèle avec des métriques adaptées à la classification comme l'accuracy, la matrice de confusion, et le rapport de classification (précision, rappel, F1-score)."
   ]
  },
  {
   "cell_type": "code",
   "execution_count": 109,
   "id": "a046df24-81fc-473d-a1b3-559895a345ee",
   "metadata": {},
   "outputs": [
    {
     "ename": "AttributeError",
     "evalue": "'LogisticRegression' object has no attribute 'coef_'",
     "output_type": "error",
     "traceback": [
      "\u001b[1;31m---------------------------------------------------------------------------\u001b[0m",
      "\u001b[1;31mAttributeError\u001b[0m                            Traceback (most recent call last)",
      "Cell \u001b[1;32mIn[109], line 2\u001b[0m\n\u001b[0;32m      1\u001b[0m \u001b[38;5;66;03m# Faire des prédictions sur l'ensemble de test\u001b[39;00m\n\u001b[1;32m----> 2\u001b[0m y_pred_log \u001b[38;5;241m=\u001b[39m model_log\u001b[38;5;241m.\u001b[39mpredict(X_test_log)\n\u001b[0;32m      4\u001b[0m \u001b[38;5;66;03m# Évaluer le modèle\u001b[39;00m\n\u001b[0;32m      5\u001b[0m accuracy \u001b[38;5;241m=\u001b[39m accuracy_score(y_test_log, y_pred_log)\n",
      "File \u001b[1;32mD:\\Anaconda\\Lib\\site-packages\\sklearn\\linear_model\\_base.py:382\u001b[0m, in \u001b[0;36mLinearClassifierMixin.predict\u001b[1;34m(self, X)\u001b[0m\n\u001b[0;32m    368\u001b[0m \u001b[38;5;250m\u001b[39m\u001b[38;5;124;03m\"\"\"\u001b[39;00m\n\u001b[0;32m    369\u001b[0m \u001b[38;5;124;03mPredict class labels for samples in X.\u001b[39;00m\n\u001b[0;32m    370\u001b[0m \n\u001b[1;32m   (...)\u001b[0m\n\u001b[0;32m    379\u001b[0m \u001b[38;5;124;03m    Vector containing the class labels for each sample.\u001b[39;00m\n\u001b[0;32m    380\u001b[0m \u001b[38;5;124;03m\"\"\"\u001b[39;00m\n\u001b[0;32m    381\u001b[0m xp, _ \u001b[38;5;241m=\u001b[39m get_namespace(X)\n\u001b[1;32m--> 382\u001b[0m scores \u001b[38;5;241m=\u001b[39m \u001b[38;5;28mself\u001b[39m\u001b[38;5;241m.\u001b[39mdecision_function(X)\n\u001b[0;32m    383\u001b[0m \u001b[38;5;28;01mif\u001b[39;00m \u001b[38;5;28mlen\u001b[39m(scores\u001b[38;5;241m.\u001b[39mshape) \u001b[38;5;241m==\u001b[39m \u001b[38;5;241m1\u001b[39m:\n\u001b[0;32m    384\u001b[0m     indices \u001b[38;5;241m=\u001b[39m xp\u001b[38;5;241m.\u001b[39mastype(scores \u001b[38;5;241m>\u001b[39m \u001b[38;5;241m0\u001b[39m, indexing_dtype(xp))\n",
      "File \u001b[1;32mD:\\Anaconda\\Lib\\site-packages\\sklearn\\linear_model\\_base.py:364\u001b[0m, in \u001b[0;36mLinearClassifierMixin.decision_function\u001b[1;34m(self, X)\u001b[0m\n\u001b[0;32m    361\u001b[0m xp, _ \u001b[38;5;241m=\u001b[39m get_namespace(X)\n\u001b[0;32m    363\u001b[0m X \u001b[38;5;241m=\u001b[39m \u001b[38;5;28mself\u001b[39m\u001b[38;5;241m.\u001b[39m_validate_data(X, accept_sparse\u001b[38;5;241m=\u001b[39m\u001b[38;5;124m\"\u001b[39m\u001b[38;5;124mcsr\u001b[39m\u001b[38;5;124m\"\u001b[39m, reset\u001b[38;5;241m=\u001b[39m\u001b[38;5;28;01mFalse\u001b[39;00m)\n\u001b[1;32m--> 364\u001b[0m scores \u001b[38;5;241m=\u001b[39m safe_sparse_dot(X, \u001b[38;5;28mself\u001b[39m\u001b[38;5;241m.\u001b[39mcoef_\u001b[38;5;241m.\u001b[39mT, dense_output\u001b[38;5;241m=\u001b[39m\u001b[38;5;28;01mTrue\u001b[39;00m) \u001b[38;5;241m+\u001b[39m \u001b[38;5;28mself\u001b[39m\u001b[38;5;241m.\u001b[39mintercept_\n\u001b[0;32m    365\u001b[0m \u001b[38;5;28;01mreturn\u001b[39;00m xp\u001b[38;5;241m.\u001b[39mreshape(scores, (\u001b[38;5;241m-\u001b[39m\u001b[38;5;241m1\u001b[39m,)) \u001b[38;5;28;01mif\u001b[39;00m scores\u001b[38;5;241m.\u001b[39mshape[\u001b[38;5;241m1\u001b[39m] \u001b[38;5;241m==\u001b[39m \u001b[38;5;241m1\u001b[39m \u001b[38;5;28;01melse\u001b[39;00m scores\n",
      "\u001b[1;31mAttributeError\u001b[0m: 'LogisticRegression' object has no attribute 'coef_'"
     ]
    }
   ],
   "source": [
    "# Faire des prédictions sur l'ensemble de test\n",
    "y_pred_log = model_log.predict(X_test_log)\n",
    "\n",
    "# Évaluer le modèle\n",
    "accuracy = accuracy_score(y_test_log, y_pred_log)\n",
    "conf_matrix = confusion_matrix(y_test_log, y_pred_log)\n",
    "class_report = classification_report(y_test_log, y_pred_log)\n",
    "\n",
    "print(\"\\n--- Évaluation du Modèle de Régression Logistique ---\")\n",
    "print(f\"Accuracy (Précision Globale) : {accuracy:.2f}\")\n",
    "print(\"\\nMatrice de Confusion :\")\n",
    "print(conf_matrix)\n",
    "print(\"\\nRapport de Classification :\")\n",
    "print(class_report)"
   ]
  },
  {
   "cell_type": "code",
   "execution_count": null,
   "id": "641c5025-1cba-457a-97f1-68a03a8fdf14",
   "metadata": {},
   "outputs": [],
   "source": [
    "# Étape 13 : Visualisation 2D de la Régression Logistique (avec un seul prédicteur)\n",
    "\n",
    "print(\"\\nVisualisation 2D de la Régression Logistique (Hours_Studied vs Passed_Course)...\")\n",
    "\n",
    "# 1. Préparer les données pour cette visualisation 2D\n",
    "# On prend le prédicteur que l'on veut visualiser (ici Hours_Studied)\n",
    "X_visualisation = data[['Hours_Studied']]\n",
    "# Et la variable cible binaire\n",
    "y_visualisation = data['Passed_Course']\n",
    "\n",
    "# 2. Entraîner un modèle de régression logistique SIMPLE UNIQUEMENT pour la visualisation\n",
    "# On l'entraîne sur le dataset complet pour avoir une courbe basée sur toutes les données\n",
    "model_log_visualisation = LogisticRegression(solver='liblinear', random_state=0)\n",
    "model_log_visualisation.fit(X_visualisation, y_visualisation)\n",
    "\n",
    "# 3. Créer une plage de valeurs X (Hours_Studied) pour tracer la courbe sigmoïde\n",
    "# On prend des points entre la valeur min et max de Hours_Studied dans tout le dataset\n",
    "X_range_vis = np.linspace(X_visualisation['Hours_Studied'].min(), X_visualisation['Hours_Studied'].max(), 300).reshape(-1, 1)\n",
    "\n",
    "# 4. Calculer les probabilités prédites pour ces valeurs X_range_vis\n",
    "# model.predict_proba(X) retourne un tableau [ [proba_classe_0, proba_classe_1], ... ]\n",
    "# On prend la deuxième colonne (index 1) qui correspond à la probabilité de la classe positive (1, Réussite)\n",
    "y_proba_vis = model_log_visualisation.predict_proba(X_range_vis)[:, 1]\n",
    "\n",
    "# 5. Tracer le graphique\n",
    "\n",
    "plt.figure(figsize=(10, 6))\n",
    "\n",
    "# Tracer les points réels du dataset\n",
    "# On sépare les points des échecs (0) et des réussites (1) pour mieux les visualiser\n",
    "plt.scatter(data[data['Passed_Course'] == 0]['Hours_Studied'], data[data['Passed_Course'] == 0]['Passed_Course'], color='red', label='Échec (0)', alpha=0.6)\n",
    "plt.scatter(data[data['Passed_Course'] == 1]['Hours_Studied'], data[data['Passed_Course'] == 1]['Passed_Course'], color='green', label='Réussite (1)', alpha=0.6)\n",
    "\n",
    "# Tracer la courbe sigmoïde\n",
    "plt.plot(X_range_vis, y_proba_vis, color='blue', linewidth=2, label='Probabilité de Réussite (Sigmoïde)')\n",
    "\n",
    "# Ajouter une ligne horizontale à y=0.5 qui représente la frontière de décision\n",
    "# Au-dessus de cette ligne, la probabilité prédite est > 0.5, donc la classe prédite est 1\n",
    "plt.axhline(0.5, color='gray', linestyle='--', label='Frontière de Décision')\n",
    "\n",
    "# Ajouter titres et labels\n",
    "plt.title('Régression Logistique : Probabilité de Réussite vs Heures Étudiées')\n",
    "plt.xlabel('Heures Étudiées par Semaine')\n",
    "plt.ylabel('Probabilité Prédite de Réussite') # L'axe Y représente la probabilité\n",
    "plt.yticks([0, 0.5, 1]) # Pour afficher des valeurs importantes sur l'axe Y\n",
    "plt.legend()\n",
    "plt.grid(True)\n",
    "plt.show()"
   ]
  }
 ],
 "metadata": {
  "kernelspec": {
   "display_name": "Python 3 (ipykernel)",
   "language": "python",
   "name": "python3"
  },
  "language_info": {
   "codemirror_mode": {
    "name": "ipython",
    "version": 3
   },
   "file_extension": ".py",
   "mimetype": "text/x-python",
   "name": "python",
   "nbconvert_exporter": "python",
   "pygments_lexer": "ipython3",
   "version": "3.12.7"
  }
 },
 "nbformat": 4,
 "nbformat_minor": 5
}
